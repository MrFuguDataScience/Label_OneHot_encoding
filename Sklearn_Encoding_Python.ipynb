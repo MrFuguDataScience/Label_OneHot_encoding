{
 "cells": [
  {
   "cell_type": "markdown",
   "metadata": {},
   "source": [
    "# `Label & One Hot Encoding: with SkLearn`\n",
    "\n",
    "# <font color = red>Mr Fugu Data Science</font>\n",
    "\n",
    "# (◕‿◕✿)\n",
    "\n",
    "# Purpose & Outcome:\n",
    "\n",
    "+ Create One Hot & Label Encoding with `skLearn`\n",
    "    + When to use one over the other and thoughts\n",
    "+ Learn how to endcode and decode your variables\n",
    "    + Use single and multiple columns for encoding\n",
    "\n",
    "`Original Data`:\n",
    "\n",
    "| Country  \t| Device \t| Version \t|\n",
    "|----------\t|--------\t|---------\t|\n",
    "| Serbia   \t| iPad   \t| 10_3_4  \t|\n",
    "| Qatar    \t| iPhone \t| 9_3_5   \t|\n",
    "| Cambodia \t| iPad   \t| 12_4    \t|\n",
    "| Fiji     \t| iPad   \t| 7_1_2   \t|\n",
    "\n",
    "\n",
    "`Data Encoded`:  **End Result**\n",
    " \n",
    "| Country  \t| Device \t| Version \t| Country_LabEnc \t| Version_LabEnc \t| Device_OneHotEnc \t|\n",
    "|----------\t|--------\t|---------\t|----------------\t|----------------\t|------------------\t|\n",
    "| Serbia   \t| iPad   \t| 10_3_4  \t| 164            \t| 1              \t| 0                \t|\n",
    "| Qatar    \t| iPhone \t| 9_3_5   \t| 127            \t| 8              \t| 1                \t|\n",
    "| Cambodia \t| iPad   \t| 12_4    \t| 29             \t| 2              \t| 0                \t|\n",
    "| Fiji     \t| iPad   \t| 7_1_2   \t| 60             \t| 7              \t| 0                \t|"
   ]
  },
  {
   "cell_type": "code",
   "execution_count": null,
   "metadata": {},
   "outputs": [],
   "source": [
    "import pandas as pd # DF \n",
    "from sklearn.preprocessing import LabelEncoder,OneHotEncoder  # Encoding\n",
    "import faker # fake data generator\n",
    "from collections import defaultdict"
   ]
  },
  {
   "cell_type": "code",
   "execution_count": null,
   "metadata": {},
   "outputs": [],
   "source": [
    "# Generate Random Countries:\n",
    "\n",
    "g=faker.Faker()\n",
    "\n",
    "countries=[]\n",
    "for i in range(500):\n",
    "    countries.append(g.country())\n",
    "    \n"
   ]
  },
  {
   "cell_type": "code",
   "execution_count": null,
   "metadata": {
    "scrolled": false
   },
   "outputs": [],
   "source": [
    "# Fake Devices and Device Versions:\n",
    "\n",
    "import re\n",
    "Os_=[]\n",
    "for _ in range(500):\n",
    "#     print(g.ios_platform_token())\n",
    "    p=re.sub('\\;','',g.ios_platform_token())\n",
    "    Os_.append([p.split(' ')[0],p.split(' ')[4]])\n"
   ]
  },
  {
   "cell_type": "code",
   "execution_count": 4,
   "metadata": {},
   "outputs": [],
   "source": [
    "# Create Dataframe:\n",
    "df=pd.DataFrame(Os_,countries,columns=['Device','Version'])\n",
    "\n",
    "# Remove 1st columns set as index which is your countries\n",
    "df.reset_index(level=0, inplace=True)\n",
    "\n",
    "# Rename the new column from index -> country\n",
    "df=df.rename(columns={'index':'Country'})"
   ]
  },
  {
   "cell_type": "code",
   "execution_count": 5,
   "metadata": {},
   "outputs": [
    {
     "data": {
      "text/html": [
       "<div>\n",
       "<style scoped>\n",
       "    .dataframe tbody tr th:only-of-type {\n",
       "        vertical-align: middle;\n",
       "    }\n",
       "\n",
       "    .dataframe tbody tr th {\n",
       "        vertical-align: top;\n",
       "    }\n",
       "\n",
       "    .dataframe thead th {\n",
       "        text-align: right;\n",
       "    }\n",
       "</style>\n",
       "<table border=\"1\" class=\"dataframe\">\n",
       "  <thead>\n",
       "    <tr style=\"text-align: right;\">\n",
       "      <th></th>\n",
       "      <th>Country</th>\n",
       "      <th>Device</th>\n",
       "      <th>Version</th>\n",
       "    </tr>\n",
       "  </thead>\n",
       "  <tbody>\n",
       "    <tr>\n",
       "      <th>0</th>\n",
       "      <td>Anguilla</td>\n",
       "      <td>iPhone</td>\n",
       "      <td>7_1_2</td>\n",
       "    </tr>\n",
       "    <tr>\n",
       "      <th>1</th>\n",
       "      <td>Nicaragua</td>\n",
       "      <td>iPhone</td>\n",
       "      <td>9_3_5</td>\n",
       "    </tr>\n",
       "    <tr>\n",
       "      <th>2</th>\n",
       "      <td>Peru</td>\n",
       "      <td>iPad</td>\n",
       "      <td>4_2_1</td>\n",
       "    </tr>\n",
       "    <tr>\n",
       "      <th>3</th>\n",
       "      <td>Cote d'Ivoire</td>\n",
       "      <td>iPad</td>\n",
       "      <td>10_3_3</td>\n",
       "    </tr>\n",
       "    <tr>\n",
       "      <th>4</th>\n",
       "      <td>Israel</td>\n",
       "      <td>iPad</td>\n",
       "      <td>4_2_1</td>\n",
       "    </tr>\n",
       "  </tbody>\n",
       "</table>\n",
       "</div>"
      ],
      "text/plain": [
       "         Country  Device Version\n",
       "0       Anguilla  iPhone   7_1_2\n",
       "1      Nicaragua  iPhone   9_3_5\n",
       "2           Peru    iPad   4_2_1\n",
       "3  Cote d'Ivoire    iPad  10_3_3\n",
       "4         Israel    iPad   4_2_1"
      ]
     },
     "execution_count": 5,
     "metadata": {},
     "output_type": "execute_result"
    }
   ],
   "source": [
    "df.head()"
   ]
  },
  {
   "cell_type": "markdown",
   "metadata": {},
   "source": [
    "# Label Encoding:\n",
    "\n",
    "+ First example, 1 column at a time\n",
    "+ Second, multiple coulmns at once\n",
    "\n",
    "`-------------------------------`\n",
    "\n",
    "`Original Data`:\n",
    "\n",
    "| Country  \t| Device \t| Version \t|\n",
    "|----------\t|--------\t|---------\t|\n",
    "| Serbia   \t| iPad   \t| 10_3_4  \t|\n",
    "| Qatar    \t| iPhone \t| 9_3_5   \t|\n",
    "| Cambodia \t| iPad   \t| 12_4    \t|\n",
    "| Fiji     \t| iPad   \t| 7_1_2   \t|\n",
    "\n",
    "`After encoding`: [*'Country','Version'*]\n",
    "\n",
    "| Country  \t| Device \t| Version \t| Country_LabEnc \t| Version_LabEnc \t|\n",
    "|----------\t|--------\t|---------\t|----------------\t|----------------\t|\n",
    "| Serbia   \t| iPad   \t| 10_3_4  \t| 164            \t| 1              \t|\n",
    "| Qatar    \t| iPhone \t| 9_3_5   \t| 127            \t| 8              \t|\n",
    "| Cambodia \t| iPad   \t| 12_4    \t| 29             \t| 2              \t|\n",
    "| Fiji     \t| iPad   \t| 7_1_2   \t| 60             \t| 7              \t|"
   ]
  },
  {
   "cell_type": "code",
   "execution_count": 12,
   "metadata": {},
   "outputs": [
    {
     "data": {
      "text/html": [
       "<div>\n",
       "<style scoped>\n",
       "    .dataframe tbody tr th:only-of-type {\n",
       "        vertical-align: middle;\n",
       "    }\n",
       "\n",
       "    .dataframe tbody tr th {\n",
       "        vertical-align: top;\n",
       "    }\n",
       "\n",
       "    .dataframe thead th {\n",
       "        text-align: right;\n",
       "    }\n",
       "</style>\n",
       "<table border=\"1\" class=\"dataframe\">\n",
       "  <thead>\n",
       "    <tr style=\"text-align: right;\">\n",
       "      <th></th>\n",
       "      <th>Country</th>\n",
       "      <th>Device</th>\n",
       "      <th>Version</th>\n",
       "      <th>Country_LabEnc</th>\n",
       "      <th>Version_LabEnc</th>\n",
       "    </tr>\n",
       "  </thead>\n",
       "  <tbody>\n",
       "    <tr>\n",
       "      <th>0</th>\n",
       "      <td>Anguilla</td>\n",
       "      <td>iPhone</td>\n",
       "      <td>7_1_2</td>\n",
       "      <td>6</td>\n",
       "      <td>7</td>\n",
       "    </tr>\n",
       "    <tr>\n",
       "      <th>1</th>\n",
       "      <td>Nicaragua</td>\n",
       "      <td>iPhone</td>\n",
       "      <td>9_3_5</td>\n",
       "      <td>137</td>\n",
       "      <td>8</td>\n",
       "    </tr>\n",
       "    <tr>\n",
       "      <th>2</th>\n",
       "      <td>Peru</td>\n",
       "      <td>iPad</td>\n",
       "      <td>4_2_1</td>\n",
       "      <td>151</td>\n",
       "      <td>4</td>\n",
       "    </tr>\n",
       "    <tr>\n",
       "      <th>3</th>\n",
       "      <td>Cote d'Ivoire</td>\n",
       "      <td>iPad</td>\n",
       "      <td>10_3_3</td>\n",
       "      <td>45</td>\n",
       "      <td>0</td>\n",
       "    </tr>\n",
       "    <tr>\n",
       "      <th>4</th>\n",
       "      <td>Israel</td>\n",
       "      <td>iPad</td>\n",
       "      <td>4_2_1</td>\n",
       "      <td>93</td>\n",
       "      <td>4</td>\n",
       "    </tr>\n",
       "  </tbody>\n",
       "</table>\n",
       "</div>"
      ],
      "text/plain": [
       "         Country  Device Version  Country_LabEnc  Version_LabEnc\n",
       "0       Anguilla  iPhone   7_1_2               6               7\n",
       "1      Nicaragua  iPhone   9_3_5             137               8\n",
       "2           Peru    iPad   4_2_1             151               4\n",
       "3  Cote d'Ivoire    iPad  10_3_3              45               0\n",
       "4         Israel    iPad   4_2_1              93               4"
      ]
     },
     "execution_count": 12,
     "metadata": {},
     "output_type": "execute_result"
    }
   ],
   "source": [
    "# create label encoder\n",
    "labelencoder = LabelEncoder()\n",
    "\n",
    "# label encoding works by alphabetical order\n",
    "df['Country_LabEnc']= labelencoder.fit_transform(df['Country'])\n",
    "df.head()\n",
    "\n",
    "df['Version_LabEnc']=labelencoder.fit_transform(df['Version'])\n",
    "df.head()"
   ]
  },
  {
   "cell_type": "markdown",
   "metadata": {},
   "source": [
    "# Lets Investigate the Version Label encoding:"
   ]
  },
  {
   "cell_type": "code",
   "execution_count": 13,
   "metadata": {},
   "outputs": [
    {
     "name": "stdout",
     "output_type": "stream",
     "text": [
      "Version Labels: [7 8 4 0 5 3 6 2 1 9]\n",
      "Version: ['7_1_2' '9_3_5' '4_2_1' '10_3_3' '5_1_1' '3_1_3' '6_1_6' '12_4' '10_3_4'\n",
      " '9_3_6']\n"
     ]
    },
    {
     "data": {
      "text/plain": [
       "[(0, '10_3_3'),\n",
       " (1, '10_3_4'),\n",
       " (2, '12_4'),\n",
       " (3, '3_1_3'),\n",
       " (4, '4_2_1'),\n",
       " (5, '5_1_1'),\n",
       " (6, '6_1_6'),\n",
       " (7, '7_1_2'),\n",
       " (8, '9_3_5'),\n",
       " (9, '9_3_6')]"
      ]
     },
     "execution_count": 13,
     "metadata": {},
     "output_type": "execute_result"
    }
   ],
   "source": [
    "print('Version Labels:',df['Version_LabEnc'].unique())\n",
    "print('Version:',df['Version'].unique())\n",
    "\n",
    "o=list(zip(df['Version_LabEnc'].unique(),df['Version'].unique()))\n",
    "\n",
    "sorted(o, key=lambda x: x[0])"
   ]
  },
  {
   "cell_type": "markdown",
   "metadata": {},
   "source": [
    "# Reverse/Inverse Label Encoding:"
   ]
  },
  {
   "cell_type": "code",
   "execution_count": 14,
   "metadata": {},
   "outputs": [
    {
     "name": "stdout",
     "output_type": "stream",
     "text": [
      "[7 8 4 0 4]\n"
     ]
    },
    {
     "data": {
      "text/plain": [
       "array(['7_1_2', '9_3_5', '4_2_1', '10_3_3', '4_2_1'], dtype=object)"
      ]
     },
     "execution_count": 14,
     "metadata": {},
     "output_type": "execute_result"
    }
   ],
   "source": [
    "print(labelencoder.fit_transform(df['Version'])[:5])\n",
    "\n",
    "labelencoder.inverse_transform(labelencoder.fit_transform(df['Version']))[:5]"
   ]
  },
  {
   "cell_type": "markdown",
   "metadata": {},
   "source": [
    "# <font color=red>Consideration</font>:\n",
    "\n",
    "+ If we are looking at this as `not a label but instead as ordinal data`; then what?\n",
    "    + Well, we would have order to our data and need to reaccess! This appears to be the case; but it all depends how we want to analyze our data.\n",
    "    \n",
    "+ If we have skLearn take in our data it will act upon the order of which it is read in. We do have a problem and will need to adjust to make it assign our data in a specific order. \n",
    "    + There are times that even while switching encodings, we can have issues still and may need to further process as One Hot. Just bare in mind this when you are trying to figure out how to handle your data. "
   ]
  },
  {
   "cell_type": "code",
   "execution_count": 15,
   "metadata": {},
   "outputs": [
    {
     "name": "stdout",
     "output_type": "stream",
     "text": [
      "False\n",
      "Unexpected Result: True\n",
      "True\n",
      "Unexpected Result: False\n",
      "False\n"
     ]
    },
    {
     "data": {
      "text/plain": [
       "'\\nWe need to evaluate the string as a literal value because it is ranking as 1 >9 \\nwhich is not what we want. The string will look at each number as they appear and do \\nelement wise comparison.\\n\\nsuch as \\n\\n10_3_1 vs 12_4 it is comparing: as if it were  1031 > 124\\n\\nor \\n\\n10_3 > 9_2: which is looking at 1 v 9 instead of 10 vs 9\\n'"
      ]
     },
     "execution_count": 15,
     "metadata": {},
     "output_type": "execute_result"
    }
   ],
   "source": [
    "# If we are to consider the versions let's first evaluate something:\n",
    "\n",
    "print(10_3_1>10_3_2)\n",
    "print('Unexpected Result:',10_3_1>12_4)\n",
    "print(10.3>10.2)\n",
    "print('Unexpected Result:','10_3'>'9_2')\n",
    "print('10_3_1'>'10_3_2')\n",
    "\n",
    "'''\n",
    "We need to evaluate the string as a literal value because it is ranking as 1 >9 \n",
    "which is not what we want. The string will look at each number as they appear and do \n",
    "element wise comparison.\n",
    "\n",
    "such as \n",
    "\n",
    "10_3_1 vs 12_4 it is comparing: as if it were  1031 > 124\n",
    "\n",
    "or \n",
    "\n",
    "10_3 > 9_2: which is looking at 1 v 9 instead of 10 vs 9\n",
    "''' "
   ]
  },
  {
   "cell_type": "code",
   "execution_count": 16,
   "metadata": {},
   "outputs": [
    {
     "data": {
      "text/plain": [
       "True"
      ]
     },
     "execution_count": 16,
     "metadata": {},
     "output_type": "execute_result"
    }
   ],
   "source": [
    "# Comparing strings of numerical data: by ranking\n",
    "\n",
    "int('10_3_1')>int('10_3_2')\n",
    "int('10_2_1')>int('9_2_1')"
   ]
  },
  {
   "cell_type": "markdown",
   "metadata": {},
   "source": [
    "# `How Should We Proceed?`\n",
    "\n",
    "+ Brief explaination and code at end. Let's get into One Hot Encoding first"
   ]
  },
  {
   "cell_type": "markdown",
   "metadata": {},
   "source": [
    "`--------------------------`\n",
    "\n",
    "# One Hot Encoding:\n",
    "\n",
    "+ `handle_unknown`: by default will throw an error if an unknown value is present during transform. With the assignment of `ignore`, will avoid such an error and replace values with zero. "
   ]
  },
  {
   "cell_type": "code",
   "execution_count": 17,
   "metadata": {},
   "outputs": [
    {
     "data": {
      "text/html": [
       "<div>\n",
       "<style scoped>\n",
       "    .dataframe tbody tr th:only-of-type {\n",
       "        vertical-align: middle;\n",
       "    }\n",
       "\n",
       "    .dataframe tbody tr th {\n",
       "        vertical-align: top;\n",
       "    }\n",
       "\n",
       "    .dataframe thead th {\n",
       "        text-align: right;\n",
       "    }\n",
       "</style>\n",
       "<table border=\"1\" class=\"dataframe\">\n",
       "  <thead>\n",
       "    <tr style=\"text-align: right;\">\n",
       "      <th></th>\n",
       "      <th>Country</th>\n",
       "      <th>Device</th>\n",
       "      <th>Version</th>\n",
       "      <th>Country_LabEnc</th>\n",
       "      <th>Version_LabEnc</th>\n",
       "      <th>0</th>\n",
       "      <th>1</th>\n",
       "    </tr>\n",
       "  </thead>\n",
       "  <tbody>\n",
       "    <tr>\n",
       "      <th>0</th>\n",
       "      <td>Anguilla</td>\n",
       "      <td>iPhone</td>\n",
       "      <td>7_1_2</td>\n",
       "      <td>6</td>\n",
       "      <td>7</td>\n",
       "      <td>0.0</td>\n",
       "      <td>1.0</td>\n",
       "    </tr>\n",
       "    <tr>\n",
       "      <th>1</th>\n",
       "      <td>Nicaragua</td>\n",
       "      <td>iPhone</td>\n",
       "      <td>9_3_5</td>\n",
       "      <td>137</td>\n",
       "      <td>8</td>\n",
       "      <td>0.0</td>\n",
       "      <td>1.0</td>\n",
       "    </tr>\n",
       "    <tr>\n",
       "      <th>2</th>\n",
       "      <td>Peru</td>\n",
       "      <td>iPad</td>\n",
       "      <td>4_2_1</td>\n",
       "      <td>151</td>\n",
       "      <td>4</td>\n",
       "      <td>1.0</td>\n",
       "      <td>0.0</td>\n",
       "    </tr>\n",
       "    <tr>\n",
       "      <th>3</th>\n",
       "      <td>Cote d'Ivoire</td>\n",
       "      <td>iPad</td>\n",
       "      <td>10_3_3</td>\n",
       "      <td>45</td>\n",
       "      <td>0</td>\n",
       "      <td>1.0</td>\n",
       "      <td>0.0</td>\n",
       "    </tr>\n",
       "    <tr>\n",
       "      <th>4</th>\n",
       "      <td>Israel</td>\n",
       "      <td>iPad</td>\n",
       "      <td>4_2_1</td>\n",
       "      <td>93</td>\n",
       "      <td>4</td>\n",
       "      <td>1.0</td>\n",
       "      <td>0.0</td>\n",
       "    </tr>\n",
       "  </tbody>\n",
       "</table>\n",
       "</div>"
      ],
      "text/plain": [
       "         Country  Device Version  Country_LabEnc  Version_LabEnc    0    1\n",
       "0       Anguilla  iPhone   7_1_2               6               7  0.0  1.0\n",
       "1      Nicaragua  iPhone   9_3_5             137               8  0.0  1.0\n",
       "2           Peru    iPad   4_2_1             151               4  1.0  0.0\n",
       "3  Cote d'Ivoire    iPad  10_3_3              45               0  1.0  0.0\n",
       "4         Israel    iPad   4_2_1              93               4  1.0  0.0"
      ]
     },
     "execution_count": 17,
     "metadata": {},
     "output_type": "execute_result"
    }
   ],
   "source": [
    "# Create OneHot Encoder: \n",
    "OneHt_enc = OneHotEncoder(handle_unknown='ignore')\n",
    "\n",
    "# Create One hot as an array based on number of entries to eval: \n",
    "oneh_arry=pd.DataFrame(OneHt_enc.fit_transform(df[['Device']]).toarray())\n",
    "\n",
    "# Join DF on key vals\n",
    "df.join(oneh_arry).head()\n",
    "\n",
    "# printing off the two columns(0,1)  great if you start having more data to map as matrix"
   ]
  },
  {
   "cell_type": "markdown",
   "metadata": {},
   "source": [
    "# Inverse One Hot Encoding:"
   ]
  },
  {
   "cell_type": "code",
   "execution_count": 18,
   "metadata": {},
   "outputs": [
    {
     "name": "stdout",
     "output_type": "stream",
     "text": [
      "[[0. 1.]\n",
      " [0. 1.]\n",
      " [1. 0.]\n",
      " [1. 0.]\n",
      " [1. 0.]]\n"
     ]
    },
    {
     "data": {
      "text/plain": [
       "array([['iPhone'],\n",
       "       ['iPhone'],\n",
       "       ['iPad'],\n",
       "       ['iPad'],\n",
       "       ['iPad']], dtype=object)"
      ]
     },
     "execution_count": 18,
     "metadata": {},
     "output_type": "execute_result"
    }
   ],
   "source": [
    "print(OneHt_enc.fit_transform(df[['Device']]).toarray()[:5])\n",
    "\n",
    "\n",
    "encode_=OneHt_enc.fit_transform(df[['Device']])\n",
    "\n",
    "# Transoform back to original Devices:\n",
    "OneHt_enc.inverse_transform(encode_)[:5]"
   ]
  },
  {
   "cell_type": "markdown",
   "metadata": {},
   "source": [
    "`----------------------------------------`\n",
    "\n",
    "# Encode Multiple Columns at Once:"
   ]
  },
  {
   "cell_type": "code",
   "execution_count": 19,
   "metadata": {},
   "outputs": [
    {
     "data": {
      "text/html": [
       "<div>\n",
       "<style scoped>\n",
       "    .dataframe tbody tr th:only-of-type {\n",
       "        vertical-align: middle;\n",
       "    }\n",
       "\n",
       "    .dataframe tbody tr th {\n",
       "        vertical-align: top;\n",
       "    }\n",
       "\n",
       "    .dataframe thead th {\n",
       "        text-align: right;\n",
       "    }\n",
       "</style>\n",
       "<table border=\"1\" class=\"dataframe\">\n",
       "  <thead>\n",
       "    <tr style=\"text-align: right;\">\n",
       "      <th></th>\n",
       "      <th>Country</th>\n",
       "      <th>Device</th>\n",
       "      <th>Version</th>\n",
       "      <th>Country_LabEnc</th>\n",
       "      <th>Device_OneHt</th>\n",
       "      <th>Version_LabEnc</th>\n",
       "    </tr>\n",
       "  </thead>\n",
       "  <tbody>\n",
       "    <tr>\n",
       "      <th>0</th>\n",
       "      <td>Anguilla</td>\n",
       "      <td>iPhone</td>\n",
       "      <td>7_1_2</td>\n",
       "      <td>6</td>\n",
       "      <td>1</td>\n",
       "      <td>7</td>\n",
       "    </tr>\n",
       "    <tr>\n",
       "      <th>1</th>\n",
       "      <td>Nicaragua</td>\n",
       "      <td>iPhone</td>\n",
       "      <td>9_3_5</td>\n",
       "      <td>137</td>\n",
       "      <td>1</td>\n",
       "      <td>8</td>\n",
       "    </tr>\n",
       "    <tr>\n",
       "      <th>2</th>\n",
       "      <td>Peru</td>\n",
       "      <td>iPad</td>\n",
       "      <td>4_2_1</td>\n",
       "      <td>151</td>\n",
       "      <td>0</td>\n",
       "      <td>4</td>\n",
       "    </tr>\n",
       "    <tr>\n",
       "      <th>3</th>\n",
       "      <td>Cote d'Ivoire</td>\n",
       "      <td>iPad</td>\n",
       "      <td>10_3_3</td>\n",
       "      <td>45</td>\n",
       "      <td>0</td>\n",
       "      <td>0</td>\n",
       "    </tr>\n",
       "    <tr>\n",
       "      <th>4</th>\n",
       "      <td>Israel</td>\n",
       "      <td>iPad</td>\n",
       "      <td>4_2_1</td>\n",
       "      <td>93</td>\n",
       "      <td>0</td>\n",
       "      <td>4</td>\n",
       "    </tr>\n",
       "  </tbody>\n",
       "</table>\n",
       "</div>"
      ],
      "text/plain": [
       "         Country  Device Version  Country_LabEnc  Device_OneHt  Version_LabEnc\n",
       "0       Anguilla  iPhone   7_1_2               6             1               7\n",
       "1      Nicaragua  iPhone   9_3_5             137             1               8\n",
       "2           Peru    iPad   4_2_1             151             0               4\n",
       "3  Cote d'Ivoire    iPad  10_3_3              45             0               0\n",
       "4         Israel    iPad   4_2_1              93             0               4"
      ]
     },
     "execution_count": 19,
     "metadata": {},
     "output_type": "execute_result"
    }
   ],
   "source": [
    "df_=df.iloc[:,:3]\n",
    "\n",
    "# Encoding:\n",
    "enc_all_cols=df_.iloc[:,:3].apply(LabelEncoder().fit_transform)\n",
    "\n",
    "\n",
    "#Encoding: But, columns have repeating names\n",
    "df_w_enc=pd.concat([df.iloc[:,:3],enc_all_cols],axis=1).head()\n",
    "\n",
    "# Rename New Encoded Columns:\n",
    "df_w_enc.columns.values[3:]=['Country_LabEnc','Device_OneHt','Version_LabEnc']\n",
    "\n",
    "df_w_enc"
   ]
  },
  {
   "cell_type": "markdown",
   "metadata": {},
   "source": [
    "# Example 02: Multiple Columns Encoded"
   ]
  },
  {
   "cell_type": "code",
   "execution_count": 20,
   "metadata": {},
   "outputs": [
    {
     "data": {
      "text/html": [
       "<div>\n",
       "<style scoped>\n",
       "    .dataframe tbody tr th:only-of-type {\n",
       "        vertical-align: middle;\n",
       "    }\n",
       "\n",
       "    .dataframe tbody tr th {\n",
       "        vertical-align: top;\n",
       "    }\n",
       "\n",
       "    .dataframe thead th {\n",
       "        text-align: right;\n",
       "    }\n",
       "</style>\n",
       "<table border=\"1\" class=\"dataframe\">\n",
       "  <thead>\n",
       "    <tr style=\"text-align: right;\">\n",
       "      <th></th>\n",
       "      <th>Country</th>\n",
       "      <th>Device</th>\n",
       "      <th>Version</th>\n",
       "    </tr>\n",
       "  </thead>\n",
       "  <tbody>\n",
       "    <tr>\n",
       "      <th>0</th>\n",
       "      <td>6</td>\n",
       "      <td>1</td>\n",
       "      <td>7</td>\n",
       "    </tr>\n",
       "    <tr>\n",
       "      <th>1</th>\n",
       "      <td>137</td>\n",
       "      <td>1</td>\n",
       "      <td>8</td>\n",
       "    </tr>\n",
       "    <tr>\n",
       "      <th>2</th>\n",
       "      <td>151</td>\n",
       "      <td>0</td>\n",
       "      <td>4</td>\n",
       "    </tr>\n",
       "    <tr>\n",
       "      <th>3</th>\n",
       "      <td>45</td>\n",
       "      <td>0</td>\n",
       "      <td>0</td>\n",
       "    </tr>\n",
       "    <tr>\n",
       "      <th>4</th>\n",
       "      <td>93</td>\n",
       "      <td>0</td>\n",
       "      <td>4</td>\n",
       "    </tr>\n",
       "  </tbody>\n",
       "</table>\n",
       "</div>"
      ],
      "text/plain": [
       "   Country  Device  Version\n",
       "0        6       1        7\n",
       "1      137       1        8\n",
       "2      151       0        4\n",
       "3       45       0        0\n",
       "4       93       0        4"
      ]
     },
     "execution_count": 20,
     "metadata": {},
     "output_type": "execute_result"
    }
   ],
   "source": [
    "# Encode:\n",
    "\n",
    "from collections import defaultdict\n",
    "d = defaultdict(LabelEncoder)\n",
    "\n",
    "fit = df_.apply(lambda x: d[x.name].fit_transform(x))\n",
    "fit.head()"
   ]
  },
  {
   "cell_type": "code",
   "execution_count": 21,
   "metadata": {},
   "outputs": [
    {
     "data": {
      "text/html": [
       "<div>\n",
       "<style scoped>\n",
       "    .dataframe tbody tr th:only-of-type {\n",
       "        vertical-align: middle;\n",
       "    }\n",
       "\n",
       "    .dataframe tbody tr th {\n",
       "        vertical-align: top;\n",
       "    }\n",
       "\n",
       "    .dataframe thead th {\n",
       "        text-align: right;\n",
       "    }\n",
       "</style>\n",
       "<table border=\"1\" class=\"dataframe\">\n",
       "  <thead>\n",
       "    <tr style=\"text-align: right;\">\n",
       "      <th></th>\n",
       "      <th>Country</th>\n",
       "      <th>Device</th>\n",
       "      <th>Version</th>\n",
       "    </tr>\n",
       "  </thead>\n",
       "  <tbody>\n",
       "    <tr>\n",
       "      <th>0</th>\n",
       "      <td>Anguilla</td>\n",
       "      <td>iPhone</td>\n",
       "      <td>7_1_2</td>\n",
       "    </tr>\n",
       "    <tr>\n",
       "      <th>1</th>\n",
       "      <td>Nicaragua</td>\n",
       "      <td>iPhone</td>\n",
       "      <td>9_3_5</td>\n",
       "    </tr>\n",
       "    <tr>\n",
       "      <th>2</th>\n",
       "      <td>Peru</td>\n",
       "      <td>iPad</td>\n",
       "      <td>4_2_1</td>\n",
       "    </tr>\n",
       "    <tr>\n",
       "      <th>3</th>\n",
       "      <td>Cote d'Ivoire</td>\n",
       "      <td>iPad</td>\n",
       "      <td>10_3_3</td>\n",
       "    </tr>\n",
       "    <tr>\n",
       "      <th>4</th>\n",
       "      <td>Israel</td>\n",
       "      <td>iPad</td>\n",
       "      <td>4_2_1</td>\n",
       "    </tr>\n",
       "  </tbody>\n",
       "</table>\n",
       "</div>"
      ],
      "text/plain": [
       "         Country  Device Version\n",
       "0       Anguilla  iPhone   7_1_2\n",
       "1      Nicaragua  iPhone   9_3_5\n",
       "2           Peru    iPad   4_2_1\n",
       "3  Cote d'Ivoire    iPad  10_3_3\n",
       "4         Israel    iPad   4_2_1"
      ]
     },
     "execution_count": 21,
     "metadata": {},
     "output_type": "execute_result"
    }
   ],
   "source": [
    "# Inverse the encoded (AKA decode)\n",
    "fit.apply(lambda x: d[x.name].inverse_transform(x)).head()"
   ]
  },
  {
   "cell_type": "markdown",
   "metadata": {},
   "source": [
    "# Lastly, How to deal with Ordinal Data:\n",
    "\n",
    "+ If we are to consider the `Version` column to have some ranking or order: then we need to change it. Since we are dealing with strings of numbers separated by underscores we need to do a variation to the code."
   ]
  },
  {
   "cell_type": "code",
   "execution_count": 33,
   "metadata": {},
   "outputs": [
    {
     "name": "stdout",
     "output_type": "stream",
     "text": [
      "[5 6 2 8 2]\n",
      "0     7_1_2\n",
      "1     9_3_5\n",
      "2     4_2_1\n",
      "3    10_3_3\n",
      "4     4_2_1\n",
      "Name: Version, dtype: object\n",
      "False\n",
      "[7 8 4 0 4]\n"
     ]
    },
    {
     "data": {
      "text/plain": [
       "[712, 935, 421, 1033, 421]"
      ]
     },
     "execution_count": 33,
     "metadata": {},
     "output_type": "execute_result"
    }
   ],
   "source": [
    "k=[] # store string num literals as ints\n",
    "for i in df['Version']:\n",
    "    k.append(int(i))\n",
    "    u=labelencoder.fit_transform(k) # encode changing values to int\n",
    "\n",
    "    uu=labelencoder.fit_transform(df['Version']) # encode string as they are\n",
    "    \n",
    "print(u[:5])\n",
    "print(df['Version'][:5])\n",
    "\n",
    "print(int('12_4')>int('10_3_4'))\n",
    "print(uu[:5])\n",
    "k[:5]"
   ]
  },
  {
   "cell_type": "code",
   "execution_count": 28,
   "metadata": {},
   "outputs": [
    {
     "name": "stdout",
     "output_type": "stream",
     "text": [
      "Almost: but not quite 1034.0 124.0\n",
      "Need to Refine________________\n",
      "Correct Format to Order: [3.13, 4.21, 5.11, 6.16, 7.12, 9.35, 9.36, 10.33, 10.34, 12.4]\n"
     ]
    }
   ],
   "source": [
    "print('Almost: but not quite',float('10_3_4'),float('12_4'))\n",
    "print('Need to Refine________________')\n",
    "\n",
    "num_lit_conv=[]\n",
    "\n",
    "\n",
    "for i in df['Version']:\n",
    "    num_lit_conv.append(float(i.replace('_','.',1).replace('_','')))\n",
    "num_lit_conv\n",
    "\n",
    "print('Correct Format to Order:',sorted(set(num_lit_conv)))"
   ]
  },
  {
   "cell_type": "markdown",
   "metadata": {},
   "source": [
    "# `Therefore`: If we wanted to refind this (literal numeric)\n",
    "\n",
    "+ we would have to do some formatting in order to correctly *map* as `Ordinal`"
   ]
  },
  {
   "cell_type": "markdown",
   "metadata": {},
   "source": [
    "# <font color=red>`Future Work: further encoding examples with memory usage considerations` Look for this video soon</font>"
   ]
  },
  {
   "cell_type": "code",
   "execution_count": 29,
   "metadata": {},
   "outputs": [
    {
     "name": "stdout",
     "output_type": "stream",
     "text": [
      "[4 5 1 7 1 2 1]\n",
      "[7.12, 9.35, 4.21, 10.33, 4.21, 5.11, 4.21]\n"
     ]
    },
    {
     "data": {
      "text/plain": [
       "{(0, 3.13),\n",
       " (1, 4.21),\n",
       " (2, 5.11),\n",
       " (3, 6.16),\n",
       " (4, 7.12),\n",
       " (5, 9.35),\n",
       " (6, 9.36),\n",
       " (7, 10.33),\n",
       " (8, 10.34),\n",
       " (9, 12.4)}"
      ]
     },
     "execution_count": 29,
     "metadata": {},
     "output_type": "execute_result"
    }
   ],
   "source": [
    "print(labelencoder.fit_transform(num_lit_conv)[:7])\n",
    "print(num_lit_conv[:7])\n",
    "import numpy as np\n",
    "\n",
    "np.unique(labelencoder.fit_transform(num_lit_conv))\n",
    "\n",
    "# zip list to compare label and value:\n",
    "lst_enc_version=list(zip(labelencoder.fit_transform(num_lit_conv),num_lit_conv))\n",
    "\n",
    "# Correctly, labeled: and checking as a unique set to verify\n",
    "set(sorted(lst_enc_version, key=lambda x: x[0]))"
   ]
  },
  {
   "cell_type": "code",
   "execution_count": 30,
   "metadata": {},
   "outputs": [
    {
     "data": {
      "text/html": [
       "<div>\n",
       "<style scoped>\n",
       "    .dataframe tbody tr th:only-of-type {\n",
       "        vertical-align: middle;\n",
       "    }\n",
       "\n",
       "    .dataframe tbody tr th {\n",
       "        vertical-align: top;\n",
       "    }\n",
       "\n",
       "    .dataframe thead th {\n",
       "        text-align: right;\n",
       "    }\n",
       "</style>\n",
       "<table border=\"1\" class=\"dataframe\">\n",
       "  <thead>\n",
       "    <tr style=\"text-align: right;\">\n",
       "      <th></th>\n",
       "      <th>Country</th>\n",
       "      <th>Device</th>\n",
       "      <th>Version</th>\n",
       "      <th>Country_LabEnc</th>\n",
       "      <th>Version_LabEnc</th>\n",
       "      <th>Version_LabEnc_Fin</th>\n",
       "      <th>Converted_litNum</th>\n",
       "    </tr>\n",
       "  </thead>\n",
       "  <tbody>\n",
       "    <tr>\n",
       "      <th>0</th>\n",
       "      <td>Anguilla</td>\n",
       "      <td>iPhone</td>\n",
       "      <td>7_1_2</td>\n",
       "      <td>6</td>\n",
       "      <td>7</td>\n",
       "      <td>4</td>\n",
       "      <td>7.12</td>\n",
       "    </tr>\n",
       "    <tr>\n",
       "      <th>1</th>\n",
       "      <td>Nicaragua</td>\n",
       "      <td>iPhone</td>\n",
       "      <td>9_3_5</td>\n",
       "      <td>137</td>\n",
       "      <td>8</td>\n",
       "      <td>5</td>\n",
       "      <td>9.35</td>\n",
       "    </tr>\n",
       "    <tr>\n",
       "      <th>2</th>\n",
       "      <td>Peru</td>\n",
       "      <td>iPad</td>\n",
       "      <td>4_2_1</td>\n",
       "      <td>151</td>\n",
       "      <td>4</td>\n",
       "      <td>1</td>\n",
       "      <td>4.21</td>\n",
       "    </tr>\n",
       "    <tr>\n",
       "      <th>3</th>\n",
       "      <td>Cote d'Ivoire</td>\n",
       "      <td>iPad</td>\n",
       "      <td>10_3_3</td>\n",
       "      <td>45</td>\n",
       "      <td>0</td>\n",
       "      <td>7</td>\n",
       "      <td>10.33</td>\n",
       "    </tr>\n",
       "    <tr>\n",
       "      <th>4</th>\n",
       "      <td>Israel</td>\n",
       "      <td>iPad</td>\n",
       "      <td>4_2_1</td>\n",
       "      <td>93</td>\n",
       "      <td>4</td>\n",
       "      <td>1</td>\n",
       "      <td>4.21</td>\n",
       "    </tr>\n",
       "  </tbody>\n",
       "</table>\n",
       "</div>"
      ],
      "text/plain": [
       "         Country  Device Version  Country_LabEnc  Version_LabEnc  \\\n",
       "0       Anguilla  iPhone   7_1_2               6               7   \n",
       "1      Nicaragua  iPhone   9_3_5             137               8   \n",
       "2           Peru    iPad   4_2_1             151               4   \n",
       "3  Cote d'Ivoire    iPad  10_3_3              45               0   \n",
       "4         Israel    iPad   4_2_1              93               4   \n",
       "\n",
       "   Version_LabEnc_Fin  Converted_litNum  \n",
       "0                   4              7.12  \n",
       "1                   5              9.35  \n",
       "2                   1              4.21  \n",
       "3                   7             10.33  \n",
       "4                   1              4.21  "
      ]
     },
     "execution_count": 30,
     "metadata": {},
     "output_type": "execute_result"
    }
   ],
   "source": [
    "# Bring it all together now:\n",
    "\n",
    "correct_lab_enc_ord_vers=labelencoder.fit_transform(num_lit_conv)\n",
    "\n",
    "# New Labels for Version \n",
    "df['Version_LabEnc_Fin']=correct_lab_enc_ord_vers\n",
    "\n",
    "# Converted String -> float for encoding as Ordinal\n",
    "df['Converted_litNum']=num_lit_conv\n",
    "\n",
    "df.head()"
   ]
  },
  {
   "cell_type": "markdown",
   "metadata": {},
   "source": [
    "# <font color =red>LIKE</font>, Share &\n",
    "\n",
    "# <font color=red>SUB</font>scribe\n",
    "\n",
    "`------------------------`"
   ]
  },
  {
   "cell_type": "markdown",
   "metadata": {},
   "source": [
    "# Citations & Help:\n",
    "\n",
    "# ◔̯◔\n",
    "\n",
    "https://stackoverflow.com/questions/24458645/label-encoding-across-multiple-columns-in-scikit-learn\n",
    "\n",
    "https://stackoverflow.com/questions/38101009/changing-multiple-column-names-but-not-all-of-them-pandas-python\n",
    "\n",
    "https://machinelearningmastery.com/one-hot-encoding-for-categorical-data/\n",
    "\n",
    "https://medium.com/analytics-vidhya/types-of-categorical-data-encoding-schemes-a5bbeb4ba02b\n",
    "\n",
    "https://towardsdatascience.com/categorical-encoding-techniques-93ebd18e1f24"
   ]
  }
 ],
 "metadata": {
  "kernelspec": {
   "display_name": "Python 3",
   "language": "python",
   "name": "python3"
  },
  "language_info": {
   "codemirror_mode": {
    "name": "ipython",
    "version": 3
   },
   "file_extension": ".py",
   "mimetype": "text/x-python",
   "name": "python",
   "nbconvert_exporter": "python",
   "pygments_lexer": "ipython3",
   "version": "3.7.3"
  }
 },
 "nbformat": 4,
 "nbformat_minor": 4
}
